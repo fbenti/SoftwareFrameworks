{
 "cells": [
  {
   "cell_type": "code",
   "execution_count": 16,
   "metadata": {},
   "outputs": [],
   "source": [
    "import numpy as np\n",
    "def kabsch(qrHidden, qrOdom):\n",
    "\n",
    "    # First 2 QR in hidden frame\n",
    "    Q = np.empty((2,3))\n",
    "    Q[0,0] = qrHidden[0][0]\n",
    "    Q[0,1] = qrHidden[0][1]\n",
    "    Q[1,0] = qrHidden[1][0]\n",
    "    Q[1,1] = qrHidden[1][1]\n",
    "    Q[0,2] = 0\n",
    "    Q[1,2] = 0\n",
    "    # First 2 QR in odom frame\n",
    "    P = np.empty((2,3))\n",
    "    P[0,0] = qrOdom[0][0] #.position.x\n",
    "    P[0,1] = qrOdom[0][1] #.position.y\n",
    "    P[1,0] = qrOdom[1][0] #.position.x\n",
    "    P[1,1] = qrOdom[1][1] #.position.y\n",
    "    P[0,2] = 0\n",
    "    P[1,2] = 0\n",
    "    # print(\"Q\\n\",Q)\n",
    "    # print(\"P\\n\",P)\n",
    "\n",
    "\n",
    "    # Find centroids and subtract mean\n",
    "    centQ = np.mean(Q,axis=0)\n",
    "    centP = np.mean(P,axis=0)\n",
    "    Q = np.subtract(Q,centQ)\n",
    "    P = np.subtract(P,centP)\n",
    "\n",
    "\n",
    "    # Compute covariance matrix\n",
    "    H = Q.T @ P\n",
    "\n",
    "    # Singular Value Decomposition\n",
    "    U,S,Vt = np.linalg.svd(H)\n",
    "    V = Vt.T\n",
    "\n",
    "    # Decide whether we need to correct our rotation matrix to ensure a right-handed coordinate system\n",
    "    d = np.sign(np.linalg.det(V @ U.T))\n",
    "    D = np.diag((1,1,d))\n",
    "\n",
    "    # Rotation Matrix\n",
    "    R = V @ (D @ U.T)\n",
    "    # R = Vt @ U.T\n",
    "\n",
    "    t = - (R @ centQ) + centP\n",
    "\n",
    "    # print(\"t \\n\",t)\n",
    "    # print(\"R \\n\",R)\n",
    "\n",
    "    return t,R\n",
    "\n",
    "def transformNextQr(t,R,q):\n",
    "    Q = np.empty((1,3))\n",
    "    Q[0,0] = q[0]\n",
    "    Q[0,1] = q[1]\n",
    "    Q[0,2] = 0\n",
    "\n",
    "    Q = Q.reshape((3,1))\n",
    "    t = t.reshape((3,1))\n",
    "\n",
    "    # print((R @ Q)+t)\n",
    "    return (R @ Q) + t\n",
    "\n"
   ]
  },
  {
   "cell_type": "code",
   "execution_count": 18,
   "metadata": {},
   "outputs": [
    {
     "name": "stdout",
     "output_type": "stream",
     "text": [
      "QR pose in odom:\n",
      " [(-4.226, 3.176), (-6.003, 3.2173), (-6.708, 0.99), (-5.106, -3.344), (-3.67, -3.178)]\n",
      "\n",
      "From qr 4 and 5, detect odom position of 1: \n",
      "\n",
      "4 in hidden frame: (-3.08, 1.95)\n",
      "4 in Odom: (-5.106, -3.344)\n",
      "\n",
      "5 in hidden frame: (-3.08, 0.0)\n",
      "5 in Odom: (-3.67, -3.178)\n",
      "\n",
      "Pos of 1 in Odom: \n",
      "[[-7.26146894]\n",
      " [-0.39199299]\n",
      " [ 0.        ]]\n"
     ]
    }
   ],
   "source": [
    "### DEFINITION LAYOUT 1 ###\n",
    "\n",
    "qrCurrHidden = [(3.03,1.15),(2.67,3.23),(0.1,3.5),(-3.08,1.95),(-3.08,0.0)]\n",
    "qrNextHidden = [(2.7,3.27),(0.1,3.5),(-3.1,2.0),(-3.1,0.0),(3.0,1.2)]\n",
    "\n",
    "\n",
    "qrOdom = [(-4.226,3.176),(-6.003,3.2173),(-6.708,0.990),(-5.106,-3.344),(-3.670,-3.178)]\n",
    "print(\"QR pose in odom:\\n\",qrOdom)\n",
    "\n",
    "print(\"\\nFrom qr 4 and 5, detect odom position of 1: \")\n",
    "print(\"\\n4 in hidden frame: {}\".format(qrCurrHidden[3]))\n",
    "print(\"4 in Odom: {}\".format(qrOdom[3]))\n",
    "print(\"\\n5 in hidden frame: {}\".format(qrCurrHidden[4]))\n",
    "print(\"5 in Odom: {}\".format(qrOdom[4]))\n",
    "\n",
    "t,R = kabsch( [qrCurrHidden[3],qrCurrHidden[4]], [qrOdom[3],qrOdom[4]])\n",
    "nextOdom = transformNextQr(t,R,qrNextHidden[1])\n",
    "print(\"\\nPos of 1 in Odom: \\n{}\".format(nextOdom))"
   ]
  },
  {
   "cell_type": "code",
   "execution_count": 10,
   "metadata": {},
   "outputs": [
    {
     "name": "stdout",
     "output_type": "stream",
     "text": [
      "QR pose in odom:\n",
      " [(-4.675, 2.946), (-6.239, 2.884), (-6.708, 0.99), (-5.106, -3.344), (-3.67, -3.178)]\n",
      "\n",
      "From qr 1 and 2, detect odom position of 3: \n",
      "\n",
      "1 in hidden frame: (3.03, 1.15)\n",
      "1 in Odom: (-5.106, -3.344)\n",
      "\n",
      "2 in hidden frame: (2.67, 3.23)\n",
      "2 in Odom: (-3.67, -3.178)\n",
      "\n",
      "Pos of 3 in Odom: \n",
      "[[-7.26146894]\n",
      " [-0.39199299]\n",
      " [ 0.        ]]\n"
     ]
    }
   ],
   "source": [
    "print(\"QR pose in odom:\\n\",qrOdom)\n",
    "\n",
    "print(\"\\nFrom qr 1 and 2, detect odom position of 3: \")\n",
    "print(\"\\n1 in hidden frame: {}\".format(qrCurrHidden[0]))\n",
    "print(\"1 in Odom: {}\".format(qrOdom[3]))\n",
    "print(\"\\n2 in hidden frame: {}\".format(qrCurrHidden[1]))\n",
    "print(\"2 in Odom: {}\".format(qrOdom[4]))\n",
    "\n",
    "t,R = kabsch( [qrCurrHidden[3],qrCurrHidden[4]], [qrOdom[3],qrOdom[4]])\n",
    "nextOdom = transformNextQr(t,R,qrNextHidden[1])\n",
    "print(\"\\nPos of 3 in Odom: \\n{}\".format(nextOdom))"
   ]
  },
  {
   "cell_type": "code",
   "execution_count": 11,
   "metadata": {},
   "outputs": [
    {
     "name": "stdout",
     "output_type": "stream",
     "text": [
      "QR pose in odom:\n",
      " [(-4.675, 2.946), (-6.239, 2.884), (-6.708, 0.99), (-5.106, -3.344), (-3.67, -3.178)]\n",
      "\n",
      "From qr 4 and 5, detect odom position of 1: \n",
      "\n",
      "4 in hidden frame: (-3.08, 1.95)\n",
      "4 in Odom: (-5.106, -3.344)\n",
      "\n",
      "5 in hidden frame: (-3.08, 0.0)\n",
      "5 in Odom: (-3.67, -3.178)\n",
      "\n",
      "Pos of 1 in Odom: \n",
      "[[-5.30970326]\n",
      " [ 2.75294115]\n",
      " [ 0.        ]]\n"
     ]
    }
   ],
   "source": [
    "# LAYOUT 2\n",
    "qrCurrHidden2 = [(3.03,1.15),(2.67,3.23),(0.1,3.5),(-3.08,1.95),(-3.08,0.0)]\n",
    "qrNextHidden2 = [(2.7,3.27),(0.1,3.5),(-3.1,2.0),(-3.1,0.0),(3.0,1.2)]\n",
    "\n",
    "qrOdom2 = [(-4.675,2.946),(-6.239,2.884),(-6.708,0.990),(-5.106,-3.344),(-3.670,-3.178)]\n",
    "print(\"QR pose in odom:\\n\",qrOdom2)\n",
    "\n",
    "print(\"\\nFrom qr 4 and 5, detect odom position of 1: \")\n",
    "print(\"\\n4 in hidden frame: {}\".format(qrCurrHidden2[3]))\n",
    "print(\"4 in Odom: {}\".format(qrOdom2[3]))\n",
    "print(\"\\n5 in hidden frame: {}\".format(qrCurrHidden2[4]))\n",
    "print(\"5 in Odom: {}\".format(qrOdom2[4]))\n",
    "\n",
    "t,R = kabsch( [qrCurrHidden2[3],qrCurrHidden2[4]], [qrOdom2[3],qrOdom2[4]])\n",
    "nextOdom2 = transformNextQr(t,R,qrNextHidden2[4])\n",
    "print(\"\\nPos of 1 in Odom: \\n{}\".format(nextOdom2))"
   ]
  }
 ],
 "metadata": {
  "interpreter": {
   "hash": "767d51c1340bd893661ea55ea3124f6de3c7a262a8b4abca0554b478b1e2ff90"
  },
  "kernelspec": {
   "display_name": "Python 2.7.17 64-bit",
   "language": "python",
   "name": "python3"
  },
  "language_info": {
   "codemirror_mode": {
    "name": "ipython",
    "version": 3
   },
   "file_extension": ".py",
   "mimetype": "text/x-python",
   "name": "python",
   "nbconvert_exporter": "python",
   "pygments_lexer": "ipython3",
   "version": "3.8.2"
  },
  "orig_nbformat": 4
 },
 "nbformat": 4,
 "nbformat_minor": 2
}
